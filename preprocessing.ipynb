{
 "cells": [
  {
   "cell_type": "code",
   "execution_count": 4,
   "metadata": {},
   "outputs": [],
   "source": [
    "import numpy as np \n",
    "import pandas as pd\n",
    "from sklearn.linear_model import LinearRegression\n",
    "from sklearn.model_selection import train_test_split\n",
    "from sklearn.preprocessing import StandardScaler\n",
    "from sklearn.pipeline import Pipeline\n",
    "import plotly.express as px \n",
    "import seaborn as sns \n",
    "import matplotlib.pyplot as plt \n",
    "\n"
   ]
  },
  {
   "cell_type": "code",
   "execution_count": 3,
   "metadata": {},
   "outputs": [],
   "source": [
    "met2020= pd.read_csv('~/Downloads/standardmeteorogical2020.txt', encoding='utf8', delimiter= '\\\\s+')\n",
    "met2018 = pd.read_csv('~/Downloads/44009h2018.txt',encoding='utf8', delimiter= '\\\\s+')\n",
    "met2019 = pd.read_csv('~/Downloads/44009h2019.txt',encoding='utf8', delimiter= '\\\\s+')\n",
    "met2017 = pd.read_csv('~/Downloads/44009h2017.txt',encoding='utf8', delimiter= '\\\\s+')\n",
    "\n"
   ]
  },
  {
   "cell_type": "code",
   "execution_count": 343,
   "metadata": {},
   "outputs": [
    {
     "data": {
      "text/plain": [
       "Index(['#YY', 'MM', 'DD', 'hh', 'mm', 'WDIR', 'WSPD', 'GST', 'WVHT', 'DPD',\n",
       "       'APD', 'MWD', 'PRES', 'ATMP', 'WTMP', 'DEWP', 'VIS', 'TIDE'],\n",
       "      dtype='object')"
      ]
     },
     "execution_count": 343,
     "metadata": {},
     "output_type": "execute_result"
    }
   ],
   "source": [
    "met2018.columns"
   ]
  },
  {
   "cell_type": "code",
   "execution_count": 344,
   "metadata": {},
   "outputs": [],
   "source": [
    "def clean_df(df): \n",
    "    '''\n",
    "    input: dataframe\n",
    "    params: remove string row, \n",
    "            create date column, \n",
    "            convert to numeric values, \n",
    "            replace 999 inputation with Nan\n",
    "            filter columns with > 90% missing values \n",
    "    output: cleaned dataframe\n",
    "    '''\n",
    "    df = df.iloc[1:,:]\n",
    "\n",
    "    df['date'] = df['#YY'] + '-' +  df['MM'] + '-' + df['DD']\n",
    "    df['date'] = df['date'].apply(pd.to_datetime)\n",
    "\n",
    "    df.iloc[:,:18] = df.iloc[:,:18].astype('float')\n",
    "\n",
    "    df =df.replace(999.0, np.nan)\n",
    "    df =df.replace(99.0, np.nan)\n",
    "    df =df.replace(9999.0, np.nan)\n",
    "\n",
    "    df = df[['#YY', 'MM', 'DD', 'hh', 'mm', 'WDIR', 'WSPD', 'GST', 'WVHT', 'DPD',\n",
    "       'APD', 'MWD', 'PRES', 'ATMP', 'WTMP','date']]\n",
    "\n",
    "    return df\n",
    "    "
   ]
  },
  {
   "cell_type": "code",
   "execution_count": 345,
   "metadata": {},
   "outputs": [
    {
     "name": "stderr",
     "output_type": "stream",
     "text": [
      "/var/folders/nw/j3b8rwtj6057njmc_kj0q5540000gp/T/ipykernel_6003/2542359458.py:13: SettingWithCopyWarning: \n",
      "A value is trying to be set on a copy of a slice from a DataFrame.\n",
      "Try using .loc[row_indexer,col_indexer] = value instead\n",
      "\n",
      "See the caveats in the documentation: https://pandas.pydata.org/pandas-docs/stable/user_guide/indexing.html#returning-a-view-versus-a-copy\n",
      "  df['date'] = df['#YY'] + '-' +  df['MM'] + '-' + df['DD']\n",
      "/var/folders/nw/j3b8rwtj6057njmc_kj0q5540000gp/T/ipykernel_6003/2542359458.py:14: SettingWithCopyWarning: \n",
      "A value is trying to be set on a copy of a slice from a DataFrame.\n",
      "Try using .loc[row_indexer,col_indexer] = value instead\n",
      "\n",
      "See the caveats in the documentation: https://pandas.pydata.org/pandas-docs/stable/user_guide/indexing.html#returning-a-view-versus-a-copy\n",
      "  df['date'] = df['date'].apply(pd.to_datetime)\n",
      "/Users/brendanhutchinson/opt/anaconda3/lib/python3.9/site-packages/pandas/core/indexing.py:1851: SettingWithCopyWarning: \n",
      "A value is trying to be set on a copy of a slice from a DataFrame.\n",
      "Try using .loc[row_indexer,col_indexer] = value instead\n",
      "\n",
      "See the caveats in the documentation: https://pandas.pydata.org/pandas-docs/stable/user_guide/indexing.html#returning-a-view-versus-a-copy\n",
      "  self._setitem_single_column(loc, val, pi)\n"
     ]
    }
   ],
   "source": [
    "met2017 =clean_df(met2017)\n",
    "met2018 = clean_df(met2018)\n",
    "met2019 = clean_df(met2019)\n",
    "met2020 = clean_df(met2020)"
   ]
  },
  {
   "cell_type": "code",
   "execution_count": 346,
   "metadata": {},
   "outputs": [
    {
     "data": {
      "text/plain": [
       "#YY         0\n",
       "MM          0\n",
       "DD          0\n",
       "hh          0\n",
       "mm          0\n",
       "WDIR    11425\n",
       "WSPD     9377\n",
       "GST      9383\n",
       "WVHT       44\n",
       "DPD        62\n",
       "APD        44\n",
       "MWD       287\n",
       "PRES     5046\n",
       "ATMP    11430\n",
       "WTMP     4581\n",
       "date        0\n",
       "dtype: int64"
      ]
     },
     "execution_count": 346,
     "metadata": {},
     "output_type": "execute_result"
    }
   ],
   "source": [
    "bouy_data = pd.concat([met2017,met2018, met2019,met2020], axis =0)\n"
   ]
  },
  {
   "cell_type": "code",
   "execution_count": 347,
   "metadata": {},
   "outputs": [
    {
     "data": {
      "text/plain": [
       "#YY     0\n",
       "MM      0\n",
       "DD      0\n",
       "hh      0\n",
       "mm      0\n",
       "WDIR    0\n",
       "WSPD    0\n",
       "GST     0\n",
       "WVHT    0\n",
       "DPD     0\n",
       "APD     0\n",
       "MWD     0\n",
       "PRES    0\n",
       "ATMP    0\n",
       "WTMP    0\n",
       "date    0\n",
       "dtype: int64"
      ]
     },
     "execution_count": 347,
     "metadata": {},
     "output_type": "execute_result"
    }
   ],
   "source": [
    "## dropping missing values - come back for imputation \n",
    "\n",
    "bouy_data.dropna(inplace = True)\n",
    "\n",
    "\n",
    "    "
   ]
  },
  {
   "cell_type": "code",
   "execution_count": 356,
   "metadata": {},
   "outputs": [],
   "source": [
    "# additional Data \n",
    "\n",
    "additional_measurements= pd.read_csv('/Users/brendanhutchinson/Downloads/additionalmeasuresments202edited.txt', encoding = 'utf8', delimiter = '\\\\s+')\n",
    "\n",
    "spectral_direction = pd.read_csv('/Users/brendanhutchinson/Downloads/spectralwavedirection.txt',  delimiter= '\\\\s+')\n",
    "\n",
    "spectral_density = pd.read_csv('/Users/brendanhutchinson/Downloads/sprectralwavedensity.txt', encoding='utf8', delimiter= '\\\\s+')\n",
    "\n",
    "wind_direction = pd.read_csv('/Users/brendanhutchinson/Downloads/continouswinds2020.txt', encoding='utf8', delimiter= '\\\\s+')\n",
    "\n"
   ]
  }
 ],
 "metadata": {
  "interpreter": {
   "hash": "1d020a417669de9e26ebca1460d6689139388bf5b4c8b8c068885a798f9d4d0b"
  },
  "kernelspec": {
   "display_name": "Python 3 (ipykernel)",
   "language": "python",
   "name": "python3"
  },
  "language_info": {
   "codemirror_mode": {
    "name": "ipython",
    "version": 3
   },
   "file_extension": ".py",
   "mimetype": "text/x-python",
   "name": "python",
   "nbconvert_exporter": "python",
   "pygments_lexer": "ipython3",
   "version": "3.9.7"
  }
 },
 "nbformat": 4,
 "nbformat_minor": 2
}
