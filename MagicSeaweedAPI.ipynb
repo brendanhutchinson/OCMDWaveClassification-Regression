{
 "cells": [
  {
   "cell_type": "code",
   "execution_count": 45,
   "metadata": {},
   "outputs": [],
   "source": [
    "import requests\n",
    "import pandas as pd\n",
    "import pysurfline\n",
    "from pysurfline import URLBuilder\n",
    "from pysurfline import SpotForecast\n"
   ]
  },
  {
   "cell_type": "code",
   "execution_count": 47,
   "metadata": {},
   "outputs": [
    {
     "name": "stdout",
     "output_type": "stream",
     "text": [
      "-----\n",
      "ForecastGetter(Type:wave, Status:200)\n",
      "-----\n",
      "ForecastGetter(Type:wind, Status:200)\n",
      "-----\n",
      "ForecastGetter(Type:tides, Status:200)\n",
      "-----\n",
      "ForecastGetter(Type:weather, Status:200)\n"
     ]
    }
   ],
   "source": [
    "\n",
    "\n",
    "ocspotid = '5842041f4e65fad6a7708a1b'\n",
    "\n",
    "params={\n",
    "    \"spotId\": ocspotid,\n",
    "    \"days\":6,\n",
    "    \"intervalHours\":3,\n",
    "    }\n",
    "\n",
    "\n",
    "u=URLBuilder(\"wave\",params)\n",
    "u.url\n",
    "\n",
    "spot=SpotForecast(params,verbose=True)"
   ]
  },
  {
   "cell_type": "code",
   "execution_count": 48,
   "metadata": {},
   "outputs": [],
   "source": [
    "waves=spot.get_dataframe(\"wave\")\n",
    "wind=spot.get_dataframe(\"wind\")\n",
    "tides=spot.get_dataframe(\"tides\")\n",
    "weather=spot.get_dataframe(\"weather\")\n",
    "sunlight =spot.get_dataframe(\"sunlightTimes\")\n",
    "\n",
    "\n",
    "\n"
   ]
  },
  {
   "cell_type": "code",
   "execution_count": null,
   "metadata": {},
   "outputs": [],
   "source": []
  }
 ],
 "metadata": {
  "interpreter": {
   "hash": "1d020a417669de9e26ebca1460d6689139388bf5b4c8b8c068885a798f9d4d0b"
  },
  "kernelspec": {
   "display_name": "Python 3.9.7 ('base')",
   "language": "python",
   "name": "python3"
  },
  "language_info": {
   "codemirror_mode": {
    "name": "ipython",
    "version": 3
   },
   "file_extension": ".py",
   "mimetype": "text/x-python",
   "name": "python",
   "nbconvert_exporter": "python",
   "pygments_lexer": "ipython3",
   "version": "3.9.7"
  },
  "orig_nbformat": 4
 },
 "nbformat": 4,
 "nbformat_minor": 2
}
